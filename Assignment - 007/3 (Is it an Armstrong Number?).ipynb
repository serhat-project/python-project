{
  "nbformat": 4,
  "nbformat_minor": 0,
  "metadata": {
    "colab": {
      "name": "Untitled45.ipynb",
      "provenance": [],
      "authorship_tag": "ABX9TyM1RKc2efVzbkp6k4lbCbzA",
      "include_colab_link": true
    },
    "kernelspec": {
      "name": "python3",
      "display_name": "Python 3"
    }
  },
  "cells": [
    {
      "cell_type": "markdown",
      "metadata": {
        "id": "view-in-github",
        "colab_type": "text"
      },
      "source": [
        "<a href=\"https://colab.research.google.com/github/serhat-project/python-project/blob/main/Assignment%20-%20007/3%20(Is%20it%20an%20Armstrong%20Number%3F).ipynb\" target=\"_parent\"><img src=\"https://colab.research.google.com/assets/colab-badge.svg\" alt=\"Open In Colab\"/></a>"
      ]
    },
    {
      "cell_type": "code",
      "metadata": {
        "id": "yKEhVCU6M6_g"
      },
      "source": [
        "num = input(\"Enter a number: \")\r\n",
        "while not num.isnumeric():\r\n",
        "    print(\"It is an invalid entry. Don't use non-numeric, float, or negative values!\")\r\n",
        "    num = input(\"Please enter only a number: \")\r\n",
        "y=len(str(num))\r\n",
        "z=sum(int(x)**y for x in str(num))\r\n",
        "if z == int(num):\r\n",
        "  print(num, \" is an Armstrong number\")\r\n",
        "else:\r\n",
        "  print(num, \" is not an Armstrong number\")\r\n"
      ],
      "execution_count": null,
      "outputs": []
    }
  ]
}