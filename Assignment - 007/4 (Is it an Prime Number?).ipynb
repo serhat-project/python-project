{
  "nbformat": 4,
  "nbformat_minor": 0,
  "metadata": {
    "colab": {
      "name": "Untitled45.ipynb",
      "provenance": [],
      "authorship_tag": "ABX9TyPlHllMEBJLNwvasBTFc5oX",
      "include_colab_link": true
    },
    "kernelspec": {
      "name": "python3",
      "display_name": "Python 3"
    }
  },
  "cells": [
    {
      "cell_type": "markdown",
      "metadata": {
        "id": "view-in-github",
        "colab_type": "text"
      },
      "source": [
        "<a href=\"https://colab.research.google.com/github/serhat-project/python-project/blob/main/Assignment%20-%20007/4%20(Is%20it%20an%20Prime%20Number%3F).ipynb\" target=\"_parent\"><img src=\"https://colab.research.google.com/assets/colab-badge.svg\" alt=\"Open In Colab\"/></a>"
      ]
    },
    {
      "cell_type": "code",
      "metadata": {
        "id": "0PG8dz00djIW"
      },
      "source": [
        "num = int(input(\"Type a number: \"))  \r\n",
        "isprime = True                \r\n",
        "for x in range(2, num):\r\n",
        "    y = (num % x)\r\n",
        "    if y == 0:\r\n",
        "        isprime = False\r\n",
        "\r\n",
        "if isprime:\r\n",
        "  print(num, \"is a prime number\")\r\n",
        "else:\r\n",
        "  print(num, \"is not a prime number\")"
      ],
      "execution_count": null,
      "outputs": []
    }
  ]
}