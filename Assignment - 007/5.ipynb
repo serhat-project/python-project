{
  "nbformat": 4,
  "nbformat_minor": 0,
  "metadata": {
    "colab": {
      "name": "Untitled51.ipynb",
      "provenance": [],
      "authorship_tag": "ABX9TyOqeG31riynMNolfYGGKUlQ",
      "include_colab_link": true
    },
    "kernelspec": {
      "name": "python3",
      "display_name": "Python 3"
    }
  },
  "cells": [
    {
      "cell_type": "markdown",
      "metadata": {
        "id": "view-in-github",
        "colab_type": "text"
      },
      "source": [
        "<a href=\"https://colab.research.google.com/github/serhat-project/python-project/blob/main/Assignment%20-%20007/5.ipynb\" target=\"_parent\"><img src=\"https://colab.research.google.com/assets/colab-badge.svg\" alt=\"Open In Colab\"/></a>"
      ]
    },
    {
      "cell_type": "code",
      "metadata": {
        "colab": {
          "base_uri": "https://localhost:8080/"
        },
        "id": "J2L0EdE3Necw",
        "outputId": "776bfd80-94ae-48f9-b96e-bcad5a8dc2be"
      },
      "source": [
        "def fib_rec(n):\r\n",
        "    if n == 1:\r\n",
        "        return [0]\r\n",
        "    elif n == 2:\r\n",
        "        return [0,1]\r\n",
        "    else:\r\n",
        "        x = fib_rec(n-1)\r\n",
        "        x.append(sum(x[:-3:-1]))\r\n",
        "        return x\r\n",
        "z=fib_rec(11)\r\n",
        "print(\"\\033[3mfibonacci \\u2192\\033[0m\", z[1:])\r\n",
        "  "
      ],
      "execution_count": 21,
      "outputs": [
        {
          "output_type": "stream",
          "text": [
            "\u001b[3mfibonacci →\u001b[0m [1, 1, 2, 3, 5, 8, 13, 21, 34, 55]\n"
          ],
          "name": "stdout"
        }
      ]
    }
  ]
}